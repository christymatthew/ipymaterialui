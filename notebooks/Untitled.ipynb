{
 "cells": [
  {
   "cell_type": "code",
   "execution_count": null,
   "metadata": {},
   "outputs": [],
   "source": [
    "import ipymaterialui as m"
   ]
  },
  {
   "cell_type": "code",
   "execution_count": null,
   "metadata": {},
   "outputs": [],
   "source": [
    "m.Chip(label=['hoi'])"
   ]
  },
  {
   "cell_type": "code",
   "execution_count": null,
   "metadata": {
    "scrolled": true
   },
   "outputs": [],
   "source": [
    "statusb = m.Chip(label='-')\n",
    "count = 1\n",
    "def onclick(e, w, d):\n",
    "    global count\n",
    "    count += 1\n",
    "    statusb.label = f'{count}'\n",
    "    \n",
    "button1 = m.Button(color='primary', variant='contained', children='hoi')\n",
    "button1.on_event('onClick', onclick)\n",
    "m.List(children=[button1, statusb])"
   ]
  },
  {
   "cell_type": "code",
   "execution_count": null,
   "metadata": {},
   "outputs": [],
   "source": [
    "m.Chip(label=button1)"
   ]
  },
  {
   "cell_type": "code",
   "execution_count": null,
   "metadata": {},
   "outputs": [],
   "source": [
    "button1.color='primary'"
   ]
  },
  {
   "cell_type": "code",
   "execution_count": null,
   "metadata": {},
   "outputs": [],
   "source": [
    "button1.children='anders'"
   ]
  },
  {
   "cell_type": "code",
   "execution_count": null,
   "metadata": {},
   "outputs": [],
   "source": [
    "button1.color='secondary'"
   ]
  },
  {
   "cell_type": "code",
   "execution_count": null,
   "metadata": {},
   "outputs": [],
   "source": [
    "switch = m.Switch(checked=True)\n",
    "switch"
   ]
  },
  {
   "cell_type": "code",
   "execution_count": null,
   "metadata": {},
   "outputs": [],
   "source": [
    "switch.checked=False"
   ]
  },
  {
   "cell_type": "code",
   "execution_count": null,
   "metadata": {},
   "outputs": [],
   "source": [
    "switch.checked=True"
   ]
  },
  {
   "cell_type": "code",
   "execution_count": null,
   "metadata": {},
   "outputs": [],
   "source": [
    "m.Slider(value=10, min=0, max=100)"
   ]
  },
  {
   "cell_type": "code",
   "execution_count": null,
   "metadata": {
    "scrolled": true
   },
   "outputs": [],
   "source": [
    "status = m.Chip(label='-')\n",
    "tg = m.ToggleButtonGroup(value='bliep', exclusive=True, children=[\n",
    "    m.ToggleButton(value='bla', children='bla'),\n",
    "    m.ToggleButton(value='bliep', selected=True, children='bliep'),\n",
    "    m.ToggleButton(value='foo', children='foo')\n",
    "])\n",
    "\n",
    "def on_t_change(widget, event, data):\n",
    "    status.label=f'{data}'\n",
    "\n",
    "tg.on_event('onChange', on_t_change)\n",
    "    \n",
    "m.List(children=[tg, status])"
   ]
  },
  {
   "cell_type": "code",
   "execution_count": null,
   "metadata": {},
   "outputs": [],
   "source": [
    "status2 = m.Chip(label='-')\n",
    "display(status2)\n",
    "def rg_change(widget, event, data):\n",
    "    status2.label=f'{data}'\n",
    "\n",
    "rg = m.RadioGroup(\n",
    "        name='gender1',\n",
    "        value='male',\n",
    "        children=[\n",
    "            m.FormControlLabel(value='female', control=m.Radio(), label='Female'),\n",
    "            m.FormControlLabel(value='male', control=m.Radio(), label='Male'),\n",
    "            m.FormControlLabel(value='other', control=m.Radio(), label='Other')\n",
    "        ]\n",
    "    )\n",
    "rg.on_event('onChange', rg_change)\n",
    "\n",
    "m.FormControl(component='fieldset', children=[\n",
    "    m.FormLabel(component='legend'),\n",
    "    rg\n",
    "])\n"
   ]
  },
  {
   "cell_type": "code",
   "execution_count": null,
   "metadata": {},
   "outputs": [],
   "source": [
    "def do_change(widget, event, data):\n",
    "    status3.label=f'{data}'\n",
    "\n",
    "sl = m.Slider(value=10)\n",
    "sl.on_event('onChange', do_change)\n",
    "\n",
    "status3 = m.Chip(label='-')\n",
    "display(status3)\n",
    "\n",
    "m.Grid(container=True, \n",
    "    spacing=2, \n",
    "    children=[\n",
    "        m.Grid(item=True, xs=1, children=m.Icon(children='VolumeDown')),\n",
    "        m.Grid(item=True, xs=10, children=sl),\n",
    "        m.Grid(item=True, xs=1, children=m.Icon(children='VolumeUp'))\n",
    "])"
   ]
  },
  {
   "cell_type": "code",
   "execution_count": null,
   "metadata": {},
   "outputs": [],
   "source": [
    "m.Tooltip(\n",
    "    title='Delete', \n",
    "    children=m.Button(children='Hoi'))"
   ]
  },
  {
   "cell_type": "code",
   "execution_count": null,
   "metadata": {},
   "outputs": [],
   "source": [
    "m.IconButton( children=m.Icon(children='Delete'))"
   ]
  },
  {
   "cell_type": "code",
   "execution_count": null,
   "metadata": {},
   "outputs": [],
   "source": [
    "m.Fab(color='primary', children=m.Icon(children='Add'))        "
   ]
  },
  {
   "cell_type": "code",
   "execution_count": null,
   "metadata": {},
   "outputs": [],
   "source": [
    "def toggle_modal(widget, event, data):\n",
    "    modal1.open_ = not modal1.open_\n",
    "    \n",
    "btn3 = m.Button(color='primary', variant='contained', children='Open Modal')\n",
    "btn3.on_event('onClick', toggle_modal)\n",
    "\n",
    "modal1 = m.Modal(open_=False, children=m.Button(\n",
    "    style_={'position': 'absolute', \n",
    "            'left': '50%', \n",
    "            'top': '50%'}, \n",
    "    color='primary',\n",
    "    variant='contained',\n",
    "    children='button in modal'))\n",
    "modal1.on_event('onClose', toggle_modal)\n",
    "    \n",
    "m.List(children=[\n",
    "    btn3, modal1\n",
    "])    "
   ]
  },
  {
   "cell_type": "code",
   "execution_count": null,
   "metadata": {},
   "outputs": [],
   "source": [
    "btn3.cid"
   ]
  },
  {
   "cell_type": "code",
   "execution_count": null,
   "metadata": {},
   "outputs": [],
   "source": [
    "def om_menu_click(widget, event, data):\n",
    "    menu1.open_ = not menu1.open_ \n",
    "    \n",
    "btn4 = m.Button(color='primary', variant='contained', children='open menu')\n",
    "btn4.on_event('onClick', om_menu_click)\n",
    "\n",
    "def mk_item(i):\n",
    "    item = m.MenuItem(children=i)\n",
    "    item.on_event('onClick', om_menu_click)\n",
    "    return item\n",
    "\n",
    "items = [mk_item(i) for i in ['Profile', 'My account', 'Logout']]\n",
    "\n",
    "menu1 = m.Menu(anchor_el=btn4, keep_mounted=True, open_=False, children=items)\n",
    "menu1.on_event('onClose', om_menu_click)\n",
    "m.List(children=[btn4, menu1])"
   ]
  },
  {
   "cell_type": "code",
   "execution_count": null,
   "metadata": {},
   "outputs": [],
   "source": [
    "m.Checkbox(checked=True)"
   ]
  },
  {
   "cell_type": "code",
   "execution_count": null,
   "metadata": {},
   "outputs": [],
   "source": [
    "m.Select(value='20', children=[\n",
    "    m.MenuItem(value=10, children=['Profile']),\n",
    "    m.MenuItem(value=20, children=['My account'])\n",
    "])"
   ]
  },
  {
   "cell_type": "code",
   "execution_count": null,
   "metadata": {},
   "outputs": [],
   "source": [
    "textfield = m.TextField(label='Name', value='', margin='normal')\n",
    "textfield"
   ]
  },
  {
   "cell_type": "code",
   "execution_count": null,
   "metadata": {},
   "outputs": [],
   "source": [
    "datefield = m.TextField(label='Birthday', type='date', value='2017-05-24')\n",
    "datefield"
   ]
  },
  {
   "cell_type": "code",
   "execution_count": null,
   "metadata": {},
   "outputs": [],
   "source": [
    "tabContent = ['Item One', 'Item Two', 'Item Three']\n",
    "\n",
    "def on_tab_change(widget, even, data):\n",
    "    index = appBar.children[0].value\n",
    "    tabs.children=[appBar, m.Html(tag='div', style_={'padding': '24px'}, children=tabContent[index])]\n",
    "    \n",
    "tab_header = m.Tabs(value=1, children=[\n",
    "        m.Tab(label='Item One'),\n",
    "        m.Tab(label='Item Two'),\n",
    "        m.Tab(label='Item Three'),\n",
    "    ])    \n",
    "tab_header.on_event('onChange', on_tab_change)    \n",
    "\n",
    "appBar = m.AppBar(position='static', children=[\n",
    "    tab_header\n",
    "])\n",
    "\n",
    "tabs = m.Html(tag='div', children=[\n",
    "    appBar,\n",
    "    m.Html(tag='div', style_={'padding': '24px'}, children='Item One')\n",
    "])\n",
    "tabs"
   ]
  },
  {
   "cell_type": "code",
   "execution_count": null,
   "metadata": {},
   "outputs": [],
   "source": [
    "sb = m.Snackbar(open_=True, message=m.Chip(label='hoi'))\n",
    "sb"
   ]
  },
  {
   "cell_type": "code",
   "execution_count": null,
   "metadata": {},
   "outputs": [],
   "source": [
    "sb.open_=False"
   ]
  },
  {
   "cell_type": "code",
   "execution_count": null,
   "metadata": {},
   "outputs": [],
   "source": []
  },
  {
   "cell_type": "code",
   "execution_count": null,
   "metadata": {},
   "outputs": [],
   "source": [
    "m.LinearProgress()"
   ]
  },
  {
   "cell_type": "code",
   "execution_count": null,
   "metadata": {},
   "outputs": [],
   "source": []
  }
 ],
 "metadata": {
  "kernelspec": {
   "display_name": "Python 3",
   "language": "python",
   "name": "python3"
  },
  "language_info": {
   "codemirror_mode": {
    "name": "ipython",
    "version": 3
   },
   "file_extension": ".py",
   "mimetype": "text/x-python",
   "name": "python",
   "nbconvert_exporter": "python",
   "pygments_lexer": "ipython3",
   "version": "3.7.3"
  }
 },
 "nbformat": 4,
 "nbformat_minor": 2
}
